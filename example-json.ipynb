{
 "cells": [
  {
   "cell_type": "markdown",
   "metadata": {},
   "source": [
    "## Define data model\n",
    "\n"
   ]
  },
  {
   "cell_type": "code",
   "execution_count": 23,
   "metadata": {},
   "outputs": [],
   "source": [
    "from datetime import date\n",
    "import json\n",
    "from typing import Annotated, Literal, Union\n",
    "from pydantic import BaseModel, Field, field_serializer, model_serializer\n",
    "\n",
    "class SemanticVersion(BaseModel):\n",
    "    major: int = Field(ge=1)\n",
    "    minor: int = Field(ge=1)\n",
    "    patch: int = Field(ge=1)\n",
    "\n",
    "    @model_serializer\n",
    "    def serialize_version(self) -> str:\n",
    "        return f\"{self.major}.{self.minor}.{self.patch}\"\n",
    "\n",
    "class ExampleData(BaseModel):\n",
    "    adcid: int = Field(ge=0, lt=100)\n",
    "    ptid: str = Field(min_length=1, max_length=10)\n",
    "    visitnum: str = Field(min_length=1, max_length=3)\n",
    "    visitdate: date \n",
    "    formver: SemanticVersion\n",
    "    variable1: Union[Annotated[int,Field(ge=1, le=6)], Literal[88]]\n",
    "    variable2: Literal[1,2]\n",
    "    variable3: Literal[1,2,4,9]\n",
    "\n",
    "    @classmethod\n",
    "    @field_serializer('visitdate')\n",
    "    def serialize_visitdate(cls, visitdate: date) -> str:\n",
    "        return visitdate.isoformat()"
   ]
  },
  {
   "cell_type": "markdown",
   "metadata": {},
   "source": [
    "## Write schema"
   ]
  },
  {
   "cell_type": "code",
   "execution_count": 24,
   "metadata": {},
   "outputs": [],
   "source": [
    "with open('data/example-data-schema.json', mode='w', encoding='utf-8') as schema_file:\n",
    "    json.dump(ExampleData.model_json_schema(), schema_file, indent=2)"
   ]
  },
  {
   "cell_type": "markdown",
   "metadata": {},
   "source": [
    "## Write data file"
   ]
  },
  {
   "cell_type": "code",
   "execution_count": 25,
   "metadata": {},
   "outputs": [],
   "source": [
    "import random\n",
    "from csv import DictWriter\n",
    "from polyfactory.factories.pydantic_factory import ModelFactory\n",
    "\n",
    "class ExampleFactory(ModelFactory[ExampleData]):\n",
    "    ...\n",
    "\n",
    "example_list = []\n",
    "count = random.randrange(start=20, stop=1000)\n",
    "while count > 0:\n",
    "    example_list.append(ExampleFactory.build())\n",
    "    count -= 1\n",
    "\n",
    "with open('data/example-data.csv', mode='w', encoding='utf-8') as outfile:\n",
    "    writer = DictWriter(outfile, fieldnames=ExampleData.model_fields.keys(), dialect='unix')\n",
    "    writer.writeheader()\n",
    "    for example in example_list:\n",
    "        writer.writerow(example.model_dump())"
   ]
  }
 ],
 "metadata": {
  "kernelspec": {
   "display_name": "Python 3",
   "language": "python",
   "name": "python3"
  },
  "language_info": {
   "codemirror_mode": {
    "name": "ipython",
    "version": 3
   },
   "file_extension": ".py",
   "mimetype": "text/x-python",
   "name": "python",
   "nbconvert_exporter": "python",
   "pygments_lexer": "ipython3",
   "version": "3.12.0"
  }
 },
 "nbformat": 4,
 "nbformat_minor": 2
}
